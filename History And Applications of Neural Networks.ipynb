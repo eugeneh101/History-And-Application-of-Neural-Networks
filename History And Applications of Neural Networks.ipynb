{
 "cells": [
  {
   "cell_type": "markdown",
   "metadata": {},
   "source": [
    "!time kg download # after configuring Kaggle CLI, this will download the dataset  \n",
    "!time unzip -q images_training_rev1.zip"
   ]
  },
  {
   "cell_type": "code",
   "execution_count": 1,
   "metadata": {
    "collapsed": false,
    "scrolled": true
   },
   "outputs": [
    {
     "data": {
      "text/html": [
       "<div>\n",
       "<style>\n",
       "    .dataframe thead tr:only-child th {\n",
       "        text-align: right;\n",
       "    }\n",
       "\n",
       "    .dataframe thead th {\n",
       "        text-align: left;\n",
       "    }\n",
       "\n",
       "    .dataframe tbody tr th {\n",
       "        vertical-align: top;\n",
       "    }\n",
       "</style>\n",
       "<table border=\"1\" class=\"dataframe\">\n",
       "  <thead>\n",
       "    <tr style=\"text-align: right;\">\n",
       "      <th></th>\n",
       "      <th>GalaxyID</th>\n",
       "      <th>Class1.1</th>\n",
       "      <th>Class1.2</th>\n",
       "      <th>Class1.3</th>\n",
       "      <th>Class2.1</th>\n",
       "      <th>Class2.2</th>\n",
       "      <th>Class3.1</th>\n",
       "      <th>Class3.2</th>\n",
       "      <th>Class4.1</th>\n",
       "      <th>Class4.2</th>\n",
       "      <th>...</th>\n",
       "      <th>Class9.3</th>\n",
       "      <th>Class10.1</th>\n",
       "      <th>Class10.2</th>\n",
       "      <th>Class10.3</th>\n",
       "      <th>Class11.1</th>\n",
       "      <th>Class11.2</th>\n",
       "      <th>Class11.3</th>\n",
       "      <th>Class11.4</th>\n",
       "      <th>Class11.5</th>\n",
       "      <th>Class11.6</th>\n",
       "    </tr>\n",
       "  </thead>\n",
       "  <tbody>\n",
       "    <tr>\n",
       "      <th>0</th>\n",
       "      <td>100008</td>\n",
       "      <td>0.383147</td>\n",
       "      <td>0.616853</td>\n",
       "      <td>0.000000</td>\n",
       "      <td>0.000000</td>\n",
       "      <td>0.616853</td>\n",
       "      <td>0.038452</td>\n",
       "      <td>0.578401</td>\n",
       "      <td>0.418398</td>\n",
       "      <td>0.198455</td>\n",
       "      <td>...</td>\n",
       "      <td>0.000000</td>\n",
       "      <td>0.279952</td>\n",
       "      <td>0.138445</td>\n",
       "      <td>0.000000</td>\n",
       "      <td>0.000000</td>\n",
       "      <td>0.092886</td>\n",
       "      <td>0.0</td>\n",
       "      <td>0.0</td>\n",
       "      <td>0.0</td>\n",
       "      <td>0.325512</td>\n",
       "    </tr>\n",
       "    <tr>\n",
       "      <th>1</th>\n",
       "      <td>100023</td>\n",
       "      <td>0.327001</td>\n",
       "      <td>0.663777</td>\n",
       "      <td>0.009222</td>\n",
       "      <td>0.031178</td>\n",
       "      <td>0.632599</td>\n",
       "      <td>0.467370</td>\n",
       "      <td>0.165229</td>\n",
       "      <td>0.591328</td>\n",
       "      <td>0.041271</td>\n",
       "      <td>...</td>\n",
       "      <td>0.018764</td>\n",
       "      <td>0.000000</td>\n",
       "      <td>0.131378</td>\n",
       "      <td>0.459950</td>\n",
       "      <td>0.000000</td>\n",
       "      <td>0.591328</td>\n",
       "      <td>0.0</td>\n",
       "      <td>0.0</td>\n",
       "      <td>0.0</td>\n",
       "      <td>0.000000</td>\n",
       "    </tr>\n",
       "    <tr>\n",
       "      <th>2</th>\n",
       "      <td>100053</td>\n",
       "      <td>0.765717</td>\n",
       "      <td>0.177352</td>\n",
       "      <td>0.056931</td>\n",
       "      <td>0.000000</td>\n",
       "      <td>0.177352</td>\n",
       "      <td>0.000000</td>\n",
       "      <td>0.177352</td>\n",
       "      <td>0.000000</td>\n",
       "      <td>0.177352</td>\n",
       "      <td>...</td>\n",
       "      <td>0.000000</td>\n",
       "      <td>0.000000</td>\n",
       "      <td>0.000000</td>\n",
       "      <td>0.000000</td>\n",
       "      <td>0.000000</td>\n",
       "      <td>0.000000</td>\n",
       "      <td>0.0</td>\n",
       "      <td>0.0</td>\n",
       "      <td>0.0</td>\n",
       "      <td>0.000000</td>\n",
       "    </tr>\n",
       "    <tr>\n",
       "      <th>3</th>\n",
       "      <td>100078</td>\n",
       "      <td>0.693377</td>\n",
       "      <td>0.238564</td>\n",
       "      <td>0.068059</td>\n",
       "      <td>0.000000</td>\n",
       "      <td>0.238564</td>\n",
       "      <td>0.109493</td>\n",
       "      <td>0.129071</td>\n",
       "      <td>0.189098</td>\n",
       "      <td>0.049466</td>\n",
       "      <td>...</td>\n",
       "      <td>0.000000</td>\n",
       "      <td>0.094549</td>\n",
       "      <td>0.000000</td>\n",
       "      <td>0.094549</td>\n",
       "      <td>0.189098</td>\n",
       "      <td>0.000000</td>\n",
       "      <td>0.0</td>\n",
       "      <td>0.0</td>\n",
       "      <td>0.0</td>\n",
       "      <td>0.000000</td>\n",
       "    </tr>\n",
       "    <tr>\n",
       "      <th>4</th>\n",
       "      <td>100090</td>\n",
       "      <td>0.933839</td>\n",
       "      <td>0.000000</td>\n",
       "      <td>0.066161</td>\n",
       "      <td>0.000000</td>\n",
       "      <td>0.000000</td>\n",
       "      <td>0.000000</td>\n",
       "      <td>0.000000</td>\n",
       "      <td>0.000000</td>\n",
       "      <td>0.000000</td>\n",
       "      <td>...</td>\n",
       "      <td>0.000000</td>\n",
       "      <td>0.000000</td>\n",
       "      <td>0.000000</td>\n",
       "      <td>0.000000</td>\n",
       "      <td>0.000000</td>\n",
       "      <td>0.000000</td>\n",
       "      <td>0.0</td>\n",
       "      <td>0.0</td>\n",
       "      <td>0.0</td>\n",
       "      <td>0.000000</td>\n",
       "    </tr>\n",
       "  </tbody>\n",
       "</table>\n",
       "<p>5 rows × 38 columns</p>\n",
       "</div>"
      ],
      "text/plain": [
       "   GalaxyID  Class1.1  Class1.2  Class1.3  Class2.1  Class2.2  Class3.1  \\\n",
       "0    100008  0.383147  0.616853  0.000000  0.000000  0.616853  0.038452   \n",
       "1    100023  0.327001  0.663777  0.009222  0.031178  0.632599  0.467370   \n",
       "2    100053  0.765717  0.177352  0.056931  0.000000  0.177352  0.000000   \n",
       "3    100078  0.693377  0.238564  0.068059  0.000000  0.238564  0.109493   \n",
       "4    100090  0.933839  0.000000  0.066161  0.000000  0.000000  0.000000   \n",
       "\n",
       "   Class3.2  Class4.1  Class4.2    ...      Class9.3  Class10.1  Class10.2  \\\n",
       "0  0.578401  0.418398  0.198455    ...      0.000000   0.279952   0.138445   \n",
       "1  0.165229  0.591328  0.041271    ...      0.018764   0.000000   0.131378   \n",
       "2  0.177352  0.000000  0.177352    ...      0.000000   0.000000   0.000000   \n",
       "3  0.129071  0.189098  0.049466    ...      0.000000   0.094549   0.000000   \n",
       "4  0.000000  0.000000  0.000000    ...      0.000000   0.000000   0.000000   \n",
       "\n",
       "   Class10.3  Class11.1  Class11.2  Class11.3  Class11.4  Class11.5  Class11.6  \n",
       "0   0.000000   0.000000   0.092886        0.0        0.0        0.0   0.325512  \n",
       "1   0.459950   0.000000   0.591328        0.0        0.0        0.0   0.000000  \n",
       "2   0.000000   0.000000   0.000000        0.0        0.0        0.0   0.000000  \n",
       "3   0.094549   0.189098   0.000000        0.0        0.0        0.0   0.000000  \n",
       "4   0.000000   0.000000   0.000000        0.0        0.0        0.0   0.000000  \n",
       "\n",
       "[5 rows x 38 columns]"
      ]
     },
     "execution_count": 1,
     "metadata": {},
     "output_type": "execute_result"
    }
   ],
   "source": [
    "import pandas as pd\n",
    "import zipfile\n",
    "\n",
    "\n",
    "with zipfile.ZipFile('training_solutions_rev1.zip') as zfile:\n",
    "    with zfile.open('training_solutions_rev1.csv') as f:\n",
    "        df = pd.read_csv(f)\n",
    "df.head()"
   ]
  },
  {
   "cell_type": "code",
   "execution_count": 2,
   "metadata": {
    "collapsed": false
   },
   "outputs": [],
   "source": [
    "import numpy as np\n",
    "import os\n",
    "\n",
    "\n",
    "img_names = df['GalaxyID'].astype('str') + '.jpg'\n",
    "labels = np.apply_along_axis(np.argmax, 1, df.iloc[:, 1:4].values)\n",
    "\n",
    "np.random.seed(42)\n",
    "train_val_test_split = np.random.choice(['train', 'val', 'test'], size=len(df), p=[0.6, 0.2, 0.2])\n",
    "\n",
    "old_path = 'images_training_rev1/'\n",
    "new_path = 'imgs/'\n",
    "\n",
    "for folder_path in ['train', 'val', 'test']:\n",
    "    for sub_path in set(labels):\n",
    "        new_dir = new_path + folder_path + '/' + str(sub_path)\n",
    "        if not os.path.isdir(new_dir):\n",
    "            print('Making new directory: {}'.format(new_dir))\n",
    "            os.makedirs(new_dir)\n",
    "\n",
    "for image_name, dataset, label in zip(img_names, train_val_test_split, labels):\n",
    "    try:\n",
    "        os.rename(old_path + image_name, new_path + dataset + '/' + str(label) + '/' + image_name)\n",
    "    except OSError:\n",
    "        pass"
   ]
  },
  {
   "cell_type": "code",
   "execution_count": 3,
   "metadata": {
    "collapsed": false
   },
   "outputs": [
    {
     "name": "stderr",
     "output_type": "stream",
     "text": [
      "Using gpu device 0: Tesla K80 (CNMeM is disabled, cuDNN 5103)\n",
      "/home/ubuntu/anaconda2/lib/python2.7/site-packages/theano/sandbox/cuda/__init__.py:600: UserWarning: Your cuDNN version is more recent than the one Theano officially supports. If you see any problems, try updating Theano or downgrading cuDNN to version 5.\n",
      "  warnings.warn(warn)\n",
      "Using Theano backend.\n"
     ]
    },
    {
     "name": "stdout",
     "output_type": "stream",
     "text": [
      "Found 36964 images belonging to 3 classes.\n",
      "Found 12383 images belonging to 3 classes.\n"
     ]
    }
   ],
   "source": [
    "from utils import *\n",
    "\n",
    "\n",
    "def get_LeNet_model():\n",
    "    inp = Input(shape=(3, 224, 224))\n",
    "    x = Convolution2D(6, 5, 5, activation='relu')(inp)\n",
    "    x = MaxPooling2D(pool_size=(2, 2))(x)\n",
    "    x = Convolution2D(16, 5, 5, activation='relu')(x)\n",
    "    x = MaxPooling2D(pool_size=(2, 2))(x)\n",
    "    x = Flatten()(x)\n",
    "    x = Dense(120 * 10, activation='relu')(x) # not a conv layer\n",
    "    x = Dense(84 * 10, activation='relu')(x) # used relu for faster training\n",
    "    x = Dense(3, activation='softmax')(x)\n",
    "    model = Model(inp, x)\n",
    "    model.compile(Adam(lr=0.001), loss='categorical_crossentropy', metrics=['accuracy'])\n",
    "    return model\n",
    "\n",
    "train_batches = image.ImageDataGenerator().flow_from_directory(new_path + 'train/', target_size=(224, 224),\n",
    "            class_mode='categorical', shuffle=True, batch_size=64)\n",
    "val_batches = image.ImageDataGenerator().flow_from_directory(new_path + 'val/', target_size=(224, 224),\n",
    "            class_mode='categorical', shuffle=False, batch_size=64)"
   ]
  },
  {
   "cell_type": "code",
   "execution_count": null,
   "metadata": {
    "collapsed": true
   },
   "outputs": [],
   "source": []
  },
  {
   "cell_type": "code",
   "execution_count": null,
   "metadata": {
    "collapsed": false
   },
   "outputs": [],
   "source": []
  },
  {
   "cell_type": "code",
   "execution_count": 11,
   "metadata": {
    "collapsed": true
   },
   "outputs": [],
   "source": [
    "inp = Input(shape=(3, 224, 224))\n",
    "x = Convolution2D(32, 5, 5, activation='relu', subsample=(3, 3))(inp)\n",
    "x = BatchNormalization(axis=1)(x)\n",
    "x = MaxPooling2D(pool_size=(2, 2))(x)\n",
    "\n",
    "x = Convolution2D(256, 5, 5, activation='relu', subsample=(3, 3))(x)\n",
    "x = BatchNormalization(axis=1)(x)\n",
    "x = MaxPooling2D(pool_size=(2, 2))(x)\n",
    "\n",
    "x = Flatten()(x)\n",
    "x = Dense(640, activation='relu')(x) # not a conv layer\n",
    "x = BatchNormalization()(x)\n",
    "x = Dense(64, activation='relu')(x) # used relu for faster training\n",
    "x = BatchNormalization()(x)\n",
    "x = Dense(3, activation='softmax')(x)\n",
    "model = Model(inp, x)\n",
    "model.compile(Adam(lr=0.01), loss='categorical_crossentropy', metrics=['accuracy'])"
   ]
  },
  {
   "cell_type": "code",
   "execution_count": 12,
   "metadata": {
    "collapsed": false
   },
   "outputs": [
    {
     "name": "stdout",
     "output_type": "stream",
     "text": [
      "____________________________________________________________________________________________________\n",
      "Layer (type)                     Output Shape          Param #     Connected to                     \n",
      "====================================================================================================\n",
      "input_3 (InputLayer)             (None, 3, 224, 224)   0                                            \n",
      "____________________________________________________________________________________________________\n",
      "convolution2d_5 (Convolution2D)  (None, 32, 74, 74)    2432        input_3[0][0]                    \n",
      "____________________________________________________________________________________________________\n",
      "batchnormalization_1 (BatchNormal(None, 32, 74, 74)    64          convolution2d_5[0][0]            \n",
      "____________________________________________________________________________________________________\n",
      "maxpooling2d_5 (MaxPooling2D)    (None, 32, 37, 37)    0           batchnormalization_1[0][0]       \n",
      "____________________________________________________________________________________________________\n",
      "convolution2d_6 (Convolution2D)  (None, 256, 11, 11)   205056      maxpooling2d_5[0][0]             \n",
      "____________________________________________________________________________________________________\n",
      "batchnormalization_2 (BatchNormal(None, 256, 11, 11)   512         convolution2d_6[0][0]            \n",
      "____________________________________________________________________________________________________\n",
      "maxpooling2d_6 (MaxPooling2D)    (None, 256, 5, 5)     0           batchnormalization_2[0][0]       \n",
      "____________________________________________________________________________________________________\n",
      "flatten_3 (Flatten)              (None, 6400)          0           maxpooling2d_6[0][0]             \n",
      "____________________________________________________________________________________________________\n",
      "dense_7 (Dense)                  (None, 640)           4096640     flatten_3[0][0]                  \n",
      "____________________________________________________________________________________________________\n",
      "batchnormalization_3 (BatchNormal(None, 640)           1280        dense_7[0][0]                    \n",
      "____________________________________________________________________________________________________\n",
      "dense_8 (Dense)                  (None, 64)            41024       batchnormalization_3[0][0]       \n",
      "____________________________________________________________________________________________________\n",
      "batchnormalization_4 (BatchNormal(None, 64)            128         dense_8[0][0]                    \n",
      "____________________________________________________________________________________________________\n",
      "dense_9 (Dense)                  (None, 3)             195         batchnormalization_4[0][0]       \n",
      "====================================================================================================\n",
      "Total params: 4347331\n",
      "____________________________________________________________________________________________________\n"
     ]
    }
   ],
   "source": [
    "model.summary()"
   ]
  },
  {
   "cell_type": "code",
   "execution_count": null,
   "metadata": {
    "collapsed": false,
    "scrolled": true
   },
   "outputs": [],
   "source": [
    "model.fit_generator(train_batches, train_batches.N, nb_epoch=1, \n",
    "                    validation_data=val_batches, nb_val_samples=val_batches.N)"
   ]
  },
  {
   "cell_type": "code",
   "execution_count": null,
   "metadata": {
    "collapsed": true
   },
   "outputs": [],
   "source": [
    "# glorot initialization?\n",
    "# sigmoid vs relu\n",
    "# increase dense neurons or more filters\n",
    "# learning rate\n",
    "# want to overfit; ideally should be more accurate than 50%\n",
    "# not enough filters!\n",
    "# no dropout\n",
    "# no batchnorm"
   ]
  },
  {
   "cell_type": "code",
   "execution_count": 42,
   "metadata": {
    "collapsed": false,
    "scrolled": true
   },
   "outputs": [
    {
     "name": "stdout",
     "output_type": "stream",
     "text": [
      "Epoch 1/1\n",
      "36964/36964 [==============================] - 575s - loss: 9.1652 - acc: 0.4311 - val_loss: 9.0763 - val_acc: 0.4369\n",
      "CPU times: user 10min 44s, sys: 1min 4s, total: 11min 48s\n",
      "Wall time: 9min 40s\n"
     ]
    }
   ],
   "source": [
    "%%time\n",
    "\n",
    "LeNet = get_LeNet_model()\n",
    "LeNet.optimizer.lr = 0.001\n",
    "LeNet.fit_generator(train_batches, train_batches.N, nb_epoch=1, \n",
    "                    validation_data=val_batches, nb_val_samples=val_batches.N)"
   ]
  },
  {
   "cell_type": "code",
   "execution_count": 59,
   "metadata": {
    "collapsed": false
   },
   "outputs": [
    {
     "data": {
      "text/plain": [
       "array([[ 0.0452, -0.0691,  0.016 ],\n",
       "       [-0.0406,  0.0386,  0.0604],\n",
       "       [-0.052 , -0.0454, -0.0131],\n",
       "       ..., \n",
       "       [ 0.0398,  0.0715, -0.0059],\n",
       "       [-0.062 ,  0.0464, -0.0575],\n",
       "       [-0.0291, -0.0295, -0.0556]], dtype=float32)"
      ]
     },
     "execution_count": 59,
     "metadata": {},
     "output_type": "execute_result"
    }
   ],
   "source": [
    "#LeNet.layers[-1].get_weights()"
   ]
  },
  {
   "cell_type": "code",
   "execution_count": null,
   "metadata": {
    "collapsed": true
   },
   "outputs": [],
   "source": []
  },
  {
   "cell_type": "code",
   "execution_count": 45,
   "metadata": {
    "collapsed": false,
    "scrolled": true
   },
   "outputs": [
    {
     "data": {
      "text/plain": [
       "array([[ 1.,  0.,  0.],\n",
       "       [ 1.,  0.,  0.],\n",
       "       [ 1.,  0.,  0.],\n",
       "       [ 1.,  0.,  0.],\n",
       "       [ 1.,  0.,  0.],\n",
       "       [ 1.,  0.,  0.],\n",
       "       [ 1.,  0.,  0.],\n",
       "       [ 1.,  0.,  0.],\n",
       "       [ 1.,  0.,  0.],\n",
       "       [ 1.,  0.,  0.]], dtype=float32)"
      ]
     },
     "execution_count": 45,
     "metadata": {},
     "output_type": "execute_result"
    }
   ],
   "source": [
    "LeNet.predict(train_batches.next()[0])[:10]"
   ]
  },
  {
   "cell_type": "code",
   "execution_count": null,
   "metadata": {
    "collapsed": true
   },
   "outputs": [],
   "source": []
  },
  {
   "cell_type": "code",
   "execution_count": null,
   "metadata": {
    "collapsed": true
   },
   "outputs": [],
   "source": []
  },
  {
   "cell_type": "code",
   "execution_count": 5,
   "metadata": {
    "collapsed": false,
    "scrolled": true
   },
   "outputs": [
    {
     "name": "stdout",
     "output_type": "stream",
     "text": [
      "Epoch 1/1\n",
      "3712/3696 [==============================] - 190s - loss: 0.7125 - acc: 0.5348 - val_loss: 0.6930 - val_acc: 0.5621\n",
      "CPU times: user 3min 21s, sys: 14.5 s, total: 3min 35s\n",
      "Wall time: 3min 10s\n"
     ]
    }
   ],
   "source": [
    "%%time\n",
    "\n",
    "LeNet.optimizer.lr = 0.1\n",
    "LeNet.fit_generator(train_batches, train_batches.N // 10, nb_epoch=1, \n",
    "                    validation_data=val_batches, nb_val_samples=val_batches.N)"
   ]
  },
  {
   "cell_type": "code",
   "execution_count": 15,
   "metadata": {
    "collapsed": false
   },
   "outputs": [
    {
     "data": {
      "text/plain": [
       "array([[ 0.4186,  0.5805,  0.0008],\n",
       "       [ 0.4186,  0.5805,  0.0008],\n",
       "       [ 0.4186,  0.5805,  0.0008],\n",
       "       [ 0.4186,  0.5805,  0.0008],\n",
       "       [ 0.4186,  0.5805,  0.0008],\n",
       "       [ 0.4186,  0.5805,  0.0008],\n",
       "       [ 0.4186,  0.5805,  0.0008],\n",
       "       [ 0.4186,  0.5805,  0.0008],\n",
       "       [ 0.4186,  0.5805,  0.0008],\n",
       "       [ 0.4186,  0.5805,  0.0008],\n",
       "       [ 0.4186,  0.5806,  0.0008],\n",
       "       [ 0.4186,  0.5805,  0.0008],\n",
       "       [ 0.4186,  0.5805,  0.0008],\n",
       "       [ 0.4186,  0.5806,  0.0008],\n",
       "       [ 0.4186,  0.5805,  0.0008],\n",
       "       [ 0.4186,  0.5806,  0.0008],\n",
       "       [ 0.4186,  0.5805,  0.0008],\n",
       "       [ 0.4186,  0.5805,  0.0008],\n",
       "       [ 0.4186,  0.5806,  0.0008],\n",
       "       [ 0.4186,  0.5805,  0.0008],\n",
       "       [ 0.4186,  0.5805,  0.0008],\n",
       "       [ 0.4186,  0.5805,  0.0008],\n",
       "       [ 0.4186,  0.5805,  0.0008],\n",
       "       [ 0.4186,  0.5805,  0.0008],\n",
       "       [ 0.4186,  0.5805,  0.0008],\n",
       "       [ 0.4186,  0.5805,  0.0008],\n",
       "       [ 0.4186,  0.5805,  0.0008],\n",
       "       [ 0.4186,  0.5806,  0.0008],\n",
       "       [ 0.4186,  0.5805,  0.0008],\n",
       "       [ 0.4186,  0.5805,  0.0008],\n",
       "       [ 0.4186,  0.5805,  0.0008],\n",
       "       [ 0.4186,  0.5805,  0.0008],\n",
       "       [ 0.4186,  0.5805,  0.0008],\n",
       "       [ 0.4186,  0.5806,  0.0008],\n",
       "       [ 0.4186,  0.5805,  0.0008],\n",
       "       [ 0.4186,  0.5805,  0.0008],\n",
       "       [ 0.4186,  0.5805,  0.0008],\n",
       "       [ 0.4186,  0.5805,  0.0008],\n",
       "       [ 0.4186,  0.5806,  0.0008],\n",
       "       [ 0.4186,  0.5806,  0.0008],\n",
       "       [ 0.4186,  0.5805,  0.0008],\n",
       "       [ 0.4186,  0.5805,  0.0008],\n",
       "       [ 0.4186,  0.5805,  0.0008],\n",
       "       [ 0.4186,  0.5805,  0.0008],\n",
       "       [ 0.4186,  0.5805,  0.0008],\n",
       "       [ 0.4186,  0.5805,  0.0008],\n",
       "       [ 0.4186,  0.5805,  0.0008],\n",
       "       [ 0.4186,  0.5805,  0.0008],\n",
       "       [ 0.4186,  0.5805,  0.0008],\n",
       "       [ 0.4186,  0.5806,  0.0008],\n",
       "       [ 0.4186,  0.5806,  0.0008],\n",
       "       [ 0.4186,  0.5805,  0.0008],\n",
       "       [ 0.4186,  0.5805,  0.0008],\n",
       "       [ 0.4186,  0.5805,  0.0008],\n",
       "       [ 0.4186,  0.5805,  0.0008],\n",
       "       [ 0.4186,  0.5805,  0.0008],\n",
       "       [ 0.4186,  0.5806,  0.0008],\n",
       "       [ 0.4187,  0.5805,  0.0008],\n",
       "       [ 0.4186,  0.5805,  0.0008],\n",
       "       [ 0.4186,  0.5805,  0.0008],\n",
       "       [ 0.4186,  0.5805,  0.0008],\n",
       "       [ 0.4186,  0.5805,  0.0008],\n",
       "       [ 0.4186,  0.5805,  0.0008],\n",
       "       [ 0.4186,  0.5805,  0.0008]], dtype=float32)"
      ]
     },
     "execution_count": 15,
     "metadata": {},
     "output_type": "execute_result"
    }
   ],
   "source": [
    "LeNet.predict(train_batches.next()[0])"
   ]
  },
  {
   "cell_type": "code",
   "execution_count": 16,
   "metadata": {
    "collapsed": false
   },
   "outputs": [
    {
     "name": "stdout",
     "output_type": "stream",
     "text": [
      "Epoch 1/1\n",
      "3712/3696 [==============================] - 190s - loss: 0.6989 - acc: 0.5506 - val_loss: 0.6977 - val_acc: 0.5621\n",
      "CPU times: user 3min 23s, sys: 14.3 s, total: 3min 37s\n",
      "Wall time: 3min 10s\n"
     ]
    }
   ],
   "source": [
    "%%time\n",
    "\n",
    "LeNet.optimizer.lr = 0.1\n",
    "LeNet.fit_generator(train_batches, train_batches.N // 10, nb_epoch=1, \n",
    "                    validation_data=val_batches, nb_val_samples=val_batches.N)"
   ]
  },
  {
   "cell_type": "code",
   "execution_count": 18,
   "metadata": {
    "collapsed": false
   },
   "outputs": [],
   "source": [
    "#LeNet.predict(train_batches.next()[0])[:20]"
   ]
  },
  {
   "cell_type": "code",
   "execution_count": null,
   "metadata": {
    "collapsed": true
   },
   "outputs": [],
   "source": []
  },
  {
   "cell_type": "code",
   "execution_count": null,
   "metadata": {
    "collapsed": true
   },
   "outputs": [],
   "source": []
  },
  {
   "cell_type": "code",
   "execution_count": 17,
   "metadata": {
    "collapsed": false
   },
   "outputs": [
    {
     "name": "stdout",
     "output_type": "stream",
     "text": [
      "Found 12383 images belonging to 3 classes.\n"
     ]
    }
   ],
   "source": [
    "%%time\n",
    "from glob import glob\n",
    "\n",
    "val_batches = image.ImageDataGenerator().flow_from_directory(new_path + 'val/', target_size=(224, 224),\n",
    "            class_mode='categorical', shuffle=False, batch_size=64)\n",
    "\n",
    "num_val_pictures = len(glob('imgs/val/*/*'))\n",
    "pics, pic_labels = [], []\n",
    "\n",
    "\n",
    "while len(pics) < num_val_pictures:\n",
    "    x, y = val_batches.next()\n",
    "    pics.extend(x)\n",
    "    pic_labels.extend(y)"
   ]
  },
  {
   "cell_type": "code",
   "execution_count": 31,
   "metadata": {
    "collapsed": false
   },
   "outputs": [
    {
     "name": "stdout",
     "output_type": "stream",
     "text": [
      "Found 12383 images belonging to 3 classes.\n"
     ]
    }
   ],
   "source": [
    "val_batches = image.ImageDataGenerator().flow_from_directory(new_path + 'val/', target_size=(224, 224),\n",
    "            class_mode='categorical', shuffle=False, batch_size=64)\n",
    "\n",
    "predictions = LeNet.predict_generator(val_batches, val_samples=val_batches.N)"
   ]
  },
  {
   "cell_type": "code",
   "execution_count": 33,
   "metadata": {
    "collapsed": false
   },
   "outputs": [
    {
     "data": {
      "text/plain": [
       "Counter({0: 12383})"
      ]
     },
     "execution_count": 33,
     "metadata": {},
     "output_type": "execute_result"
    }
   ],
   "source": [
    "Counter(np.apply_along_axis(np.argmax, 1, predictions))\n",
    "# something wrong. always predicting class 0"
   ]
  },
  {
   "cell_type": "code",
   "execution_count": 34,
   "metadata": {
    "collapsed": false
   },
   "outputs": [
    {
     "name": "stdout",
     "output_type": "stream",
     "text": [
      "(12383, 3, 224, 224)\n",
      "Counter({1: 6961, 0: 5410, 2: 12})\n",
      "CPU times: user 2.25 s, sys: 3.25 s, total: 5.5 s\n",
      "Wall time: 5.5 s\n"
     ]
    }
   ],
   "source": [
    "%%time\n",
    "from collections import Counter\n",
    "\n",
    "print(np.array(pics).shape)\n",
    "print(Counter([np.argmax(tup) for tup in pic_labels]))"
   ]
  },
  {
   "cell_type": "code",
   "execution_count": null,
   "metadata": {
    "collapsed": true
   },
   "outputs": [],
   "source": []
  },
  {
   "cell_type": "code",
   "execution_count": null,
   "metadata": {
    "collapsed": true
   },
   "outputs": [],
   "source": []
  },
  {
   "cell_type": "code",
   "execution_count": null,
   "metadata": {
    "collapsed": true
   },
   "outputs": [],
   "source": []
  },
  {
   "cell_type": "code",
   "execution_count": 6,
   "metadata": {
    "collapsed": false,
    "scrolled": true
   },
   "outputs": [
    {
     "name": "stdout",
     "output_type": "stream",
     "text": [
      "Epoch 1/2\n",
      "36964/36964 [==============================] - 553s - loss: 9.1457 - acc: 0.4326 - val_loss: 9.0763 - val_acc: 0.4369\n",
      "Epoch 2/2\n",
      "36964/36964 [==============================] - 547s - loss: 9.1575 - acc: 0.4319 - val_loss: 9.0763 - val_acc: 0.4369\n",
      "Epoch 1/2\n",
      "36964/36964 [==============================] - 555s - loss: 9.1357 - acc: 0.4332 - val_loss: 9.0763 - val_acc: 0.4369\n",
      "Epoch 2/2\n",
      "36964/36964 [==============================] - 545s - loss: 9.1444 - acc: 0.4327 - val_loss: 9.0763 - val_acc: 0.4369\n"
     ]
    },
    {
     "data": {
      "text/plain": [
       "<keras.callbacks.History at 0x7f2dddad2ad0>"
      ]
     },
     "execution_count": 6,
     "metadata": {},
     "output_type": "execute_result"
    }
   ],
   "source": [
    "%%time\n",
    "LeNet.optimizer.lr = 0.01\n",
    "LeNet.fit_generator(train_batches, train_batches.N, nb_epoch=2, \n",
    "                    validation_data=val_batches, nb_val_samples=val_batches.N)\n",
    "LeNet.optimizer.lr = 0.001\n",
    "LeNet.fit_generator(train_batches, train_batches.N, nb_epoch=2, \n",
    "                    validation_data=val_batches, nb_val_samples=val_batches.N)"
   ]
  },
  {
   "cell_type": "code",
   "execution_count": 7,
   "metadata": {
    "collapsed": false,
    "scrolled": true
   },
   "outputs": [
    {
     "name": "stdout",
     "output_type": "stream",
     "text": [
      "Epoch 1/2\n",
      "36964/36964 [==============================] - 549s - loss: 9.1601 - acc: 0.4317 - val_loss: 9.0763 - val_acc: 0.4369\n",
      "Epoch 2/2\n",
      "36964/36964 [==============================] - 544s - loss: 9.1561 - acc: 0.4319 - val_loss: 9.0763 - val_acc: 0.4369\n"
     ]
    },
    {
     "data": {
      "text/plain": [
       "<keras.callbacks.History at 0x7f2dddad2390>"
      ]
     },
     "execution_count": 7,
     "metadata": {},
     "output_type": "execute_result"
    }
   ],
   "source": [
    "LeNet.optimizer.lr = 0.1\n",
    "LeNet.fit_generator(train_batches, train_batches.N, nb_epoch=2, \n",
    "                    validation_data=val_batches, nb_val_samples=val_batches.N)"
   ]
  },
  {
   "cell_type": "code",
   "execution_count": null,
   "metadata": {
    "collapsed": true
   },
   "outputs": [],
   "source": [
    "!rm -rf images_training_rev1/\n",
    "!rm -rf imgs"
   ]
  },
  {
   "cell_type": "code",
   "execution_count": null,
   "metadata": {
    "collapsed": true
   },
   "outputs": [],
   "source": []
  },
  {
   "cell_type": "code",
   "execution_count": null,
   "metadata": {
    "collapsed": true
   },
   "outputs": [],
   "source": []
  },
  {
   "cell_type": "code",
   "execution_count": null,
   "metadata": {
    "collapsed": true
   },
   "outputs": [],
   "source": []
  },
  {
   "cell_type": "code",
   "execution_count": 10,
   "metadata": {
    "collapsed": false,
    "scrolled": true
   },
   "outputs": [
    {
     "name": "stderr",
     "output_type": "stream",
     "text": [
      "Using Theano backend.\n",
      "Using gpu device 0: Tesla K80 (CNMeM is disabled, cuDNN 5103)\n",
      "/home/ubuntu/anaconda2/lib/python2.7/site-packages/theano/sandbox/cuda/__init__.py:600: UserWarning: Your cuDNN version is more recent than the one Theano officially supports. If you see any problems, try updating Theano or downgrading cuDNN to version 5.\n",
      "  warnings.warn(warn)\n"
     ]
    },
    {
     "name": "stdout",
     "output_type": "stream",
     "text": [
      "Found 17943 images belonging to 10 classes.\n",
      "Found 4481 images belonging to 10 classes.\n"
     ]
    }
   ],
   "source": [
    "\"\"\"\n",
    "from vgg16 import Vgg16\n",
    "import os\n",
    "\n",
    "path = '../courses/deeplearning1/nbs/data/distracted_driver/imgs/' # change for respective data set\n",
    "model_path = '../courses/deeplearning1/nbs/data/distracted_driver/models/' # change for respective data set\n",
    "batch_size = 64\n",
    "\n",
    "if not os.path.isdir(model_path): # make validation folder\n",
    "    print('Making new directory: {}'.format(model_path))\n",
    "    os.mkdir(model_path)\n",
    "\n",
    "vgg = Vgg16() # imagenet weights already loaded\n",
    "# during training, shuffle should be set to true. Or else, it will likely receive training on the same class consecutively\n",
    "train_batches = vgg.get_batches(path + 'train/', batch_size=batch_size, shuffle=True)\n",
    "val_batches = vgg.get_batches(path + 'val/', batch_size=batch_size * 2, shuffle=False)\n",
    "vgg.finetune(train_batches) # optimizer is Adam\n",
    "\"\"\""
   ]
  },
  {
   "cell_type": "code",
   "execution_count": 3,
   "metadata": {
    "collapsed": false
   },
   "outputs": [
    {
     "name": "stderr",
     "output_type": "stream",
     "text": [
      "Using Theano backend.\n",
      "Using gpu device 0: Tesla K80 (CNMeM is disabled, cuDNN 5103)\n",
      "/home/ubuntu/anaconda2/lib/python2.7/site-packages/theano/sandbox/cuda/__init__.py:600: UserWarning: Your cuDNN version is more recent than the one Theano officially supports. If you see any problems, try updating Theano or downgrading cuDNN to version 5.\n",
      "  warnings.warn(warn)\n"
     ]
    },
    {
     "name": "stdout",
     "output_type": "stream",
     "text": [
      "Found 36964 images belonging to 3 classes.\n",
      "Found 12383 images belonging to 3 classes.\n"
     ]
    }
   ],
   "source": [
    "from vgg16 import Vgg16\n",
    "\n",
    "new_path = 'imgs/'\n",
    "batch_size = 64\n",
    "\n",
    "\n",
    "vgg = Vgg16() # imagenet weights already loaded\n",
    "# during training, shuffle should be set to true. Or else, it will likely receive training on the same class consecutively\n",
    "train_batches = vgg.get_batches(new_path + 'train/', batch_size=batch_size, shuffle=True)\n",
    "val_batches = vgg.get_batches(new_path + 'val/', batch_size=batch_size * 2, shuffle=False)\n",
    "vgg.finetune(train_batches) # optimizer is Adam"
   ]
  },
  {
   "cell_type": "code",
   "execution_count": 4,
   "metadata": {
    "collapsed": true
   },
   "outputs": [],
   "source": [
    "vgg.model.optimizer.lr.set_value(0.01)"
   ]
  },
  {
   "cell_type": "code",
   "execution_count": 5,
   "metadata": {
    "collapsed": false,
    "scrolled": true
   },
   "outputs": [
    {
     "name": "stdout",
     "output_type": "stream",
     "text": [
      "Epoch 1/1\n",
      "36964/36964 [==============================] - 1501s - loss: 1.7702 - acc: 0.6699 - val_loss: 1.3586 - val_acc: 0.6835\n"
     ]
    }
   ],
   "source": [
    "vgg.fit(train_batches, val_batches, nb_epoch=1)"
   ]
  },
  {
   "cell_type": "code",
   "execution_count": null,
   "metadata": {
    "collapsed": false,
    "scrolled": true
   },
   "outputs": [
    {
     "name": "stdout",
     "output_type": "stream",
     "text": [
      "Epoch 1/1\n",
      "36900/36964 [============================>.] - ETA: 1s - loss: 2.0557 - acc: 0.6796"
     ]
    }
   ],
   "source": [
    "vgg.fit(train_batches, val_batches, nb_epoch=1)"
   ]
  },
  {
   "cell_type": "code",
   "execution_count": 70,
   "metadata": {
    "collapsed": false
   },
   "outputs": [
    {
     "data": {
      "text/plain": [
       "array(0.0010000000474974513, dtype=float32)"
      ]
     },
     "execution_count": 70,
     "metadata": {},
     "output_type": "execute_result"
    }
   ],
   "source": [
    "vgg.model.optimizer.lr.set_value(0.001)"
   ]
  },
  {
   "cell_type": "code",
   "execution_count": null,
   "metadata": {
    "collapsed": true
   },
   "outputs": [],
   "source": [
    "vgg.fit(train_batches, val_batches, nb_epoch=1)"
   ]
  },
  {
   "cell_type": "code",
   "execution_count": null,
   "metadata": {
    "collapsed": true
   },
   "outputs": [],
   "source": [
    "# what does vgg.finetune do? how to do a mixiterator type of thing to get probabilistic inputs"
   ]
  },
  {
   "cell_type": "code",
   "execution_count": null,
   "metadata": {
    "collapsed": true
   },
   "outputs": [],
   "source": []
  },
  {
   "cell_type": "code",
   "execution_count": null,
   "metadata": {
    "collapsed": true
   },
   "outputs": [],
   "source": []
  },
  {
   "cell_type": "code",
   "execution_count": 1,
   "metadata": {
    "collapsed": false,
    "scrolled": true
   },
   "outputs": [
    {
     "name": "stderr",
     "output_type": "stream",
     "text": [
      "Using Theano backend.\n",
      "Using gpu device 0: Tesla K80 (CNMeM is disabled, cuDNN 5103)\n",
      "/home/ubuntu/anaconda2/lib/python2.7/site-packages/theano/sandbox/cuda/__init__.py:600: UserWarning: Your cuDNN version is more recent than the one Theano officially supports. If you see any problems, try updating Theano or downgrading cuDNN to version 5.\n",
      "  warnings.warn(warn)\n"
     ]
    },
    {
     "name": "stdout",
     "output_type": "stream",
     "text": [
      "Found 36964 images belonging to 3 classes.\n",
      "Found 12383 images belonging to 3 classes.\n"
     ]
    }
   ],
   "source": [
    "from vgg16bn import Vgg16BN\n",
    "from utils import *\n",
    "\n",
    "new_path = 'imgs/'\n",
    "batch_size = 64\n",
    "\n",
    "\n",
    "vgg = Vgg16BN() # imagenet weights already loaded\n",
    "# during training, shuffle should be set to true. Or else, it will likely receive training on the same class consecutively\n",
    "train_batches = vgg.get_batches(new_path + 'train/', batch_size=batch_size, shuffle=True)\n",
    "val_batches = vgg.get_batches(new_path + 'val/', batch_size=batch_size * 2, shuffle=False)\n",
    "vgg.finetune(train_batches) # optimizer is Adam\n",
    "\n",
    "# train the last 2 dense layers\n",
    "dense_indexes = [i for i, layer in enumerate(vgg.model.layers) if type(layer) is Dense]\n",
    "for layer_index in dense_indexes[-2:]:\n",
    "    vgg.model.layers[layer_index].trainable = True"
   ]
  },
  {
   "cell_type": "code",
   "execution_count": null,
   "metadata": {
    "collapsed": true
   },
   "outputs": [],
   "source": [
    "# add data augmentation"
   ]
  },
  {
   "cell_type": "code",
   "execution_count": null,
   "metadata": {
    "collapsed": false,
    "scrolled": true
   },
   "outputs": [
    {
     "name": "stdout",
     "output_type": "stream",
     "text": [
      "Epoch 1/1\n",
      "  128/36964 [..............................] - ETA: 1260s - loss: 6.5397 - acc: 0.5859"
     ]
    }
   ],
   "source": [
    "vgg.model.optimizer.lr.set_value(0.1)\n",
    "vgg.fit(train_batches, val_batches, nb_epoch=1)"
   ]
  },
  {
   "cell_type": "code",
   "execution_count": null,
   "metadata": {
    "collapsed": true
   },
   "outputs": [],
   "source": [
    "vgg.model.optimizer.lr.set_value(0.01)\n",
    "vgg.fit(train_batches, val_batches, nb_epoch=1)"
   ]
  },
  {
   "cell_type": "code",
   "execution_count": null,
   "metadata": {
    "collapsed": true
   },
   "outputs": [],
   "source": [
    "vgg.model.optimizer.lr.set_value(0.001)\n",
    "vgg.fit(train_batches, val_batches, nb_epoch=1)"
   ]
  },
  {
   "cell_type": "code",
   "execution_count": null,
   "metadata": {
    "collapsed": true
   },
   "outputs": [],
   "source": []
  },
  {
   "cell_type": "code",
   "execution_count": null,
   "metadata": {
    "collapsed": true
   },
   "outputs": [],
   "source": []
  },
  {
   "cell_type": "code",
   "execution_count": null,
   "metadata": {
    "collapsed": true
   },
   "outputs": [],
   "source": []
  },
  {
   "cell_type": "code",
   "execution_count": null,
   "metadata": {
    "collapsed": true
   },
   "outputs": [],
   "source": []
  },
  {
   "cell_type": "code",
   "execution_count": null,
   "metadata": {
    "collapsed": true
   },
   "outputs": [],
   "source": []
  },
  {
   "cell_type": "code",
   "execution_count": 1,
   "metadata": {
    "collapsed": false,
    "scrolled": true
   },
   "outputs": [
    {
     "name": "stderr",
     "output_type": "stream",
     "text": [
      "Using gpu device 0: Tesla K80 (CNMeM is disabled, cuDNN 5103)\n",
      "/home/ubuntu/anaconda2/lib/python2.7/site-packages/theano/sandbox/cuda/__init__.py:600: UserWarning: Your cuDNN version is more recent than the one Theano officially supports. If you see any problems, try updating Theano or downgrading cuDNN to version 5.\n",
      "  warnings.warn(warn)\n",
      "Using Theano backend.\n",
      "  0%|          | 0/185 [00:00<?, ?it/s]"
     ]
    },
    {
     "name": "stdout",
     "output_type": "stream",
     "text": [
      "Found 36964 images belonging to 3 classes.\n"
     ]
    },
    {
     "name": "stderr",
     "output_type": "stream",
     "text": [
      "100%|██████████| 185/185 [26:03<00:00,  8.07s/it]\n",
      "  0%|          | 0/62 [00:00<?, ?it/s]"
     ]
    },
    {
     "name": "stdout",
     "output_type": "stream",
     "text": [
      "Found 12383 images belonging to 3 classes.\n"
     ]
    },
    {
     "name": "stderr",
     "output_type": "stream",
     "text": [
      "100%|██████████| 62/62 [08:38<00:00,  8.05s/it]\n"
     ]
    },
    {
     "name": "stdout",
     "output_type": "stream",
     "text": [
      "CPU times: user 51min 20s, sys: 3min 1s, total: 54min 21s\n",
      "Wall time: 34min 55s\n"
     ]
    },
    {
     "data": {
      "image/png": "[encoded data removed]",
      "text/plain": [
       "<matplotlib.figure.Figure at 0x7f9b10ea6450>"
      ]
     },
     "metadata": {},
     "output_type": "display_data"
    }
   ],
   "source": [
    "%%time\n",
    "from utils import *\n",
    "from sklearn.decomposition import IncrementalPCA\n",
    "from tqdm import tqdm\n",
    "import cPickle as pkl\n",
    "import matplotlib.pyplot as plt\n",
    "%matplotlib inline\n",
    "import numpy as np\n",
    "\n",
    "\n",
    "batch_size = 200\n",
    "iPCA = IncrementalPCA(n_components=batch_size // 2)\n",
    "\n",
    "for folder in ['train', 'val']: # using training and validation set for finding PCA components \n",
    "    image_generator = image.ImageDataGenerator().flow_from_directory('imgs/' + folder, target_size=(224, 224),\n",
    "                class_mode='categorical', shuffle=True, batch_size=batch_size)\n",
    "    for i in tqdm(xrange(image_generator.N // batch_size + 1)):\n",
    "        images, classes = image_generator.next()\n",
    "        iPCA.partial_fit(images.reshape((len(images), -1)))\n",
    "    \n",
    "with open('iPCA.pkl', 'wb') as f:\n",
    "    pkl.dump(iPCA, f)\n",
    "\n",
    "plt.figure(figsize=(15, 5))\n",
    "plt.plot(iPCA.explained_variance_ratio_ * 100, label='PMF of Variance Explained')\n",
    "plt.plot(np.cumsum(iPCA.explained_variance_ratio_) * 100, label='CDF of Variance Exmplained')\n",
    "plt.legend()\n",
    "plt.xlabel('Components Sorted by Variance Explained')\n",
    "plt.ylabel('Percent of Variance Explained')\n",
    "plt.title('Variance of PCA Components')"
   ]
  },
  {
   "cell_type": "code",
   "execution_count": null,
   "metadata": {
    "collapsed": true
   },
   "outputs": [],
   "source": []
  },
  {
   "cell_type": "code",
   "execution_count": null,
   "metadata": {
    "collapsed": true
   },
   "outputs": [],
   "source": []
  },
  {
   "cell_type": "code",
   "execution_count": 1,
   "metadata": {
    "collapsed": false
   },
   "outputs": [
    {
     "name": "stderr",
     "output_type": "stream",
     "text": [
      "Using gpu device 0: Tesla K80 (CNMeM is disabled, cuDNN 5103)\n",
      "/home/ubuntu/anaconda2/lib/python2.7/site-packages/theano/sandbox/cuda/__init__.py:600: UserWarning: Your cuDNN version is more recent than the one Theano officially supports. If you see any problems, try updating Theano or downgrading cuDNN to version 5.\n",
      "  warnings.warn(warn)\n",
      "Using Theano backend.\n",
      "  0%|          | 0/3 [00:00<?, ?it/s]"
     ]
    },
    {
     "name": "stdout",
     "output_type": "stream",
     "text": [
      "\n",
      "Data set: train\n",
      "Found 36964 images belonging to 3 classes.\n",
      "All arrays have the same length: True\n",
      "All image classes appear to match up: True\n"
     ]
    },
    {
     "name": "stderr",
     "output_type": "stream",
     "text": [
      "\r",
      " 33%|███▎      | 1/3 [07:30<15:00, 450.10s/it]"
     ]
    },
    {
     "name": "stdout",
     "output_type": "stream",
     "text": [
      "\n",
      "Data set: val\n",
      "Found 12383 images belonging to 3 classes.\n",
      "All arrays have the same length: True\n",
      "All image classes appear to match up: True\n"
     ]
    },
    {
     "name": "stderr",
     "output_type": "stream",
     "text": [
      "\r",
      " 67%|██████▋   | 2/3 [10:00<06:00, 360.33s/it]"
     ]
    },
    {
     "name": "stdout",
     "output_type": "stream",
     "text": [
      "\n",
      "Data set: test\n",
      "Found 12231 images belonging to 3 classes.\n",
      "All arrays have the same length: True\n",
      "All image classes appear to match up: True\n"
     ]
    },
    {
     "name": "stderr",
     "output_type": "stream",
     "text": [
      "\r",
      "100%|██████████| 3/3 [12:29<00:00, 296.90s/it]"
     ]
    },
    {
     "name": "stdout",
     "output_type": "stream",
     "text": [
      "CPU times: user 13min 22s, sys: 37.9 s, total: 14min\n",
      "Wall time: 12min 51s\n"
     ]
    },
    {
     "name": "stderr",
     "output_type": "stream",
     "text": [
      "\n"
     ]
    }
   ],
   "source": [
    "%%time\n",
    "from utils import *\n",
    "import cPickle as pkl\n",
    "from tqdm import tqdm\n",
    "\n",
    "\n",
    "def transform_X_with_PCA(image_generator, iPCA): # generator must not be shuffled\n",
    "    X_transformed = []\n",
    "    y_labels = []\n",
    "    for i in xrange(image_generator.N // image_generator.batch_size + 1):\n",
    "        images, classes = image_generator.next()\n",
    "        X_transformed.append(iPCA.transform(images.reshape((len(images), -1))))\n",
    "        y_labels.append(classes)\n",
    "    X_transformed = np.concatenate(X_transformed)\n",
    "    y_labels = np.concatenate(y_labels)\n",
    "    # need to truncate if over sampled by 1 iteration\n",
    "    return X_transformed[:image_generator.N], y_labels[:image_generator.N]\n",
    "\n",
    "\n",
    "with open('iPCA.pkl', 'rb') as f:\n",
    "    iPCA = pkl.load(f)\n",
    "\n",
    "new_path = 'imgs/'\n",
    "batch_size = 300\n",
    "for folder in tqdm(['train', 'val', 'test']):\n",
    "    # transforming images to lower dimensionality\n",
    "    print('\\nData set: {}'.format(folder))\n",
    "    image_generator = image.ImageDataGenerator().flow_from_directory(new_path + folder, \n",
    "            target_size=(224, 224), class_mode='categorical', shuffle=False, \n",
    "            batch_size=batch_size)\n",
    "    X_transformed, y_labels = transform_X_with_PCA(image_generator, iPCA)\n",
    "    \n",
    "    data_transformed = {'image_names': image_generator.filenames, 'X_transformed': \n",
    "                    X_transformed, 'y_labels': np.argmax(y_labels, axis=1)}\n",
    "\n",
    "    # performing sanity check to make sure image names and image data are aligned by index\n",
    "    print('All arrays have the same length: {}'.format(\n",
    "            len(data_transformed['X_transformed']) == \n",
    "                len(data_transformed['y_labels']) == \n",
    "                len(data_transformed['image_names'])))\n",
    "    class_labels = np.array([fname[0] for fname in data_transformed['image_names']])\n",
    "    print('All image classes appear to match up: {}'.format(\n",
    "            (data_transformed['y_labels'].astype('str') == class_labels).all()))\n",
    "\n",
    "    # save transformed vectors to disk\n",
    "    with open(folder + '_transformed.pkl', 'wb') as f:\n",
    "        pkl.dump(data_transformed, f)"
   ]
  },
  {
   "cell_type": "code",
   "execution_count": null,
   "metadata": {
    "collapsed": true
   },
   "outputs": [],
   "source": []
  },
  {
   "cell_type": "code",
   "execution_count": 1,
   "metadata": {
    "collapsed": false
   },
   "outputs": [
    {
     "name": "stdout",
     "output_type": "stream",
     "text": [
      "Fitting 5 folds for each of 6 candidates, totalling 30 fits\n",
      "[CV] n_estimators=50, max_depth=5 ....................................\n",
      "[CV] n_estimators=50, max_depth=5 ....................................\n",
      "[CV] n_estimators=50, max_depth=5 ....................................\n"
     ]
    },
    {
     "name": "stderr",
     "output_type": "stream",
     "text": [
      "/home/ubuntu/anaconda2/lib/python2.7/site-packages/sklearn/metrics/classification.py:1135: UndefinedMetricWarning: F-score is ill-defined and being set to 0.0 in labels with no predicted samples.\n",
      "  'precision', 'predicted', average, warn_for)\n"
     ]
    },
    {
     "name": "stdout",
     "output_type": "stream",
     "text": [
      "[CV] ..................... n_estimators=50, max_depth=5, total=   7.5s\n",
      "[CV] n_estimators=50, max_depth=5 ....................................\n"
     ]
    },
    {
     "name": "stderr",
     "output_type": "stream",
     "text": [
      "/home/ubuntu/anaconda2/lib/python2.7/site-packages/sklearn/metrics/classification.py:1135: UndefinedMetricWarning: F-score is ill-defined and being set to 0.0 in labels with no predicted samples.\n",
      "  'precision', 'predicted', average, warn_for)\n",
      "/home/ubuntu/anaconda2/lib/python2.7/site-packages/sklearn/metrics/classification.py:1135: UndefinedMetricWarning: F-score is ill-defined and being set to 0.0 in labels with no predicted samples.\n",
      "  'precision', 'predicted', average, warn_for)\n"
     ]
    },
    {
     "name": "stdout",
     "output_type": "stream",
     "text": [
      "[CV] ..................... n_estimators=50, max_depth=5, total=   7.6s\n",
      "[CV] n_estimators=50, max_depth=5 ....................................\n",
      "[CV] ..................... n_estimators=50, max_depth=5, total=   7.6s\n",
      "[CV] n_estimators=100, max_depth=5 ...................................\n",
      "[CV] ..................... n_estimators=50, max_depth=5, total=   7.2s\n",
      "[CV] n_estimators=100, max_depth=5 ...................................\n",
      "[CV] ..................... n_estimators=50, max_depth=5, total=   7.7s\n",
      "[CV] n_estimators=100, max_depth=5 ...................................\n",
      "[CV] .................... n_estimators=100, max_depth=5, total=  15.2s\n",
      "[CV] n_estimators=100, max_depth=5 ...................................\n",
      "[CV] .................... n_estimators=100, max_depth=5, total=  14.6s\n",
      "[CV] n_estimators=100, max_depth=5 ...................................\n",
      "[CV] .................... n_estimators=100, max_depth=5, total=  14.5s\n",
      "[CV] n_estimators=50, max_depth=7 ....................................\n",
      "[CV] .................... n_estimators=100, max_depth=5, total=  15.4s\n",
      "[CV] n_estimators=50, max_depth=7 ....................................\n",
      "[CV] ..................... n_estimators=50, max_depth=7, total=   9.6s\n",
      "[CV] n_estimators=50, max_depth=7 ....................................\n",
      "[CV] .................... n_estimators=100, max_depth=5, total=  14.7s\n",
      "[CV] n_estimators=50, max_depth=7 ....................................\n",
      "[CV] ..................... n_estimators=50, max_depth=7, total=   8.8s\n",
      "[CV] n_estimators=50, max_depth=7 ....................................\n",
      "[CV] ..................... n_estimators=50, max_depth=7, total=   9.7s\n",
      "[CV] n_estimators=100, max_depth=7 ...................................\n",
      "[CV] ..................... n_estimators=50, max_depth=7, total=   9.5s\n",
      "[CV] n_estimators=100, max_depth=7 ...................................\n",
      "[CV] ..................... n_estimators=50, max_depth=7, total=   9.8s\n",
      "[CV] n_estimators=100, max_depth=7 ...................................\n",
      "[CV] .................... n_estimators=100, max_depth=7, total=  19.9s\n",
      "[CV] n_estimators=100, max_depth=7 ...................................\n",
      "[CV] .................... n_estimators=100, max_depth=7, total=  19.5s\n",
      "[CV] n_estimators=100, max_depth=7 ...................................\n",
      "[CV] .................... n_estimators=100, max_depth=7, total=  19.6s\n",
      "[CV] n_estimators=50, max_depth=9 ....................................\n",
      "[CV] .................... n_estimators=100, max_depth=7, total=  19.7s\n",
      "[CV] n_estimators=50, max_depth=9 ....................................\n",
      "[CV] ..................... n_estimators=50, max_depth=9, total=  12.2s\n",
      "[CV] n_estimators=50, max_depth=9 ....................................\n",
      "[CV] .................... n_estimators=100, max_depth=7, total=  18.8s\n",
      "[CV] n_estimators=50, max_depth=9 ....................................\n",
      "[CV] ..................... n_estimators=50, max_depth=9, total=  11.8s\n",
      "[CV] n_estimators=50, max_depth=9 ....................................\n",
      "[CV] ..................... n_estimators=50, max_depth=9, total=  11.5s\n",
      "[CV] n_estimators=100, max_depth=9 ...................................\n",
      "[CV] ..................... n_estimators=50, max_depth=9, total=  12.0s\n",
      "[CV] n_estimators=100, max_depth=9 ...................................\n",
      "[CV] ..................... n_estimators=50, max_depth=9, total=  12.4s\n",
      "[CV] n_estimators=100, max_depth=9 ...................................\n",
      "[CV] .................... n_estimators=100, max_depth=9, total=  23.6s\n",
      "[CV] n_estimators=100, max_depth=9 ...................................\n",
      "[CV] .................... n_estimators=100, max_depth=9, total=  24.3s\n",
      "[CV] n_estimators=100, max_depth=9 ...................................\n",
      "[CV] .................... n_estimators=100, max_depth=9, total=  24.0s\n",
      "[CV] .................... n_estimators=100, max_depth=9, total=  19.6s\n",
      "[CV] .................... n_estimators=100, max_depth=9, total=  18.0s\n"
     ]
    },
    {
     "name": "stderr",
     "output_type": "stream",
     "text": [
      "[Parallel(n_jobs=-2)]: Done  30 out of  30 | elapsed:  2.5min finished\n"
     ]
    },
    {
     "name": "stdout",
     "output_type": "stream",
     "text": [
      "CPU times: user 42.5 s, sys: 156 ms, total: 42.6 s\n",
      "Wall time: 2min 48s\n"
     ]
    }
   ],
   "source": [
    "%%time\n",
    "# Grid Search over Random Forest Hyperparameters using Stratified K-Fold Cross Validation\n",
    "from sklearn.ensemble import RandomForestClassifier\n",
    "from sklearn.model_selection import GridSearchCV, StratifiedKFold\n",
    "import cPickle as pkl\n",
    "import numpy as np\n",
    "\n",
    "\n",
    "with open('train_transformed.pkl', 'rb') as f:\n",
    "    train_transformed = pkl.load(f)\n",
    "with open('val_transformed.pkl', 'rb') as f:\n",
    "    val_transformed = pkl.load(f)\n",
    "with open('test_transformed.pkl', 'rb') as f:\n",
    "    test_transformed = pkl.load(f)\n",
    "\n",
    "X_transformed = train_transformed['X_transformed']\n",
    "y_labels = train_transformed['y_labels']\n",
    "\n",
    "rf = RandomForestClassifier(n_jobs=-2, oob_score=True, random_state=42)\n",
    "param_grid = {\n",
    "            \"n_estimators\": [50, 100], \n",
    "            'max_depth': [5, 7, 9]\n",
    "            }\n",
    "kfold = StratifiedKFold(n_splits=5, shuffle=True, random_state=42)\n",
    "grid_search = GridSearchCV(rf, param_grid, cv=kfold, n_jobs=-2, scoring='f1_weighted', verbose=2)\n",
    "grid_search.fit(X_transformed, y_labels)"
   ]
  },
  {
   "cell_type": "code",
   "execution_count": 2,
   "metadata": {
    "collapsed": false,
    "scrolled": true
   },
   "outputs": [
    {
     "data": {
      "text/plain": [
       "{'mean_fit_time': array([  7.38849039,  14.6544415 ,   9.32267404,  19.24454837,\n",
       "         11.83403139,  21.64218421]),\n",
       " 'mean_score_time': array([ 0.13773823,  0.2141428 ,  0.1529942 ,  0.23093281,  0.16307406,\n",
       "         0.23358603]),\n",
       " 'mean_test_score': array([ 0.74579454,  0.74941855,  0.75994244,  0.76249783,  0.76705463,\n",
       "         0.76762967]),\n",
       " 'mean_train_score': array([ 0.76046774,  0.76332264,  0.79331011,  0.79540331,  0.83120504,\n",
       "         0.83201306]),\n",
       " 'param_max_depth': masked_array(data = [5 5 7 7 9 9],\n",
       "              mask = [False False False False False False],\n",
       "        fill_value = ?),\n",
       " 'param_n_estimators': masked_array(data = [50 100 50 100 50 100],\n",
       "              mask = [False False False False False False],\n",
       "        fill_value = ?),\n",
       " 'params': [{'max_depth': 5, 'n_estimators': 50},\n",
       "  {'max_depth': 5, 'n_estimators': 100},\n",
       "  {'max_depth': 7, 'n_estimators': 50},\n",
       "  {'max_depth': 7, 'n_estimators': 100},\n",
       "  {'max_depth': 9, 'n_estimators': 50},\n",
       "  {'max_depth': 9, 'n_estimators': 100}],\n",
       " 'rank_test_score': array([6, 5, 4, 3, 2, 1], dtype=int32),\n",
       " 'split0_test_score': array([ 0.74316081,  0.74657259,  0.75787762,  0.75866563,  0.76638673,\n",
       "         0.76616736]),\n",
       " 'split0_train_score': array([ 0.75918534,  0.76049845,  0.79306027,  0.79460636,  0.82902555,\n",
       "         0.82950659]),\n",
       " 'split1_test_score': array([ 0.75165288,  0.75317026,  0.7626278 ,  0.76389967,  0.77495544,\n",
       "         0.77416806]),\n",
       " 'split1_train_score': array([ 0.76132942,  0.76283219,  0.79169478,  0.79357599,  0.83163403,\n",
       "         0.83217637]),\n",
       " 'split2_test_score': array([ 0.75073627,  0.75562268,  0.76315232,  0.76644658,  0.77004168,\n",
       "         0.77252945]),\n",
       " 'split2_train_score': array([ 0.76189794,  0.76521625,  0.79521913,  0.79660284,  0.83223052,\n",
       "         0.83475117]),\n",
       " 'split3_test_score': array([ 0.74286678,  0.74942153,  0.76123238,  0.76413157,  0.76222929,\n",
       "         0.76416844]),\n",
       " 'split3_train_score': array([ 0.75749912,  0.7614029 ,  0.79000194,  0.79350149,  0.82784361,\n",
       "         0.8281809 ]),\n",
       " 'split4_test_score': array([ 0.74055623,  0.74230635,  0.75482255,  0.75934709,  0.76165919,\n",
       "         0.76111475]),\n",
       " 'split4_train_score': array([ 0.76242688,  0.7666634 ,  0.79657445,  0.79872987,  0.83529149,\n",
       "         0.83545026]),\n",
       " 'std_fit_time': array([ 0.15892921,  0.29578011,  0.37632584,  0.37505824,  0.29959129,\n",
       "         2.5323848 ]),\n",
       " 'std_score_time': array([ 0.0142637 ,  0.08790467,  0.01578536,  0.02806547,  0.05952809,\n",
       "         0.05600007]),\n",
       " 'std_test_score': array([ 0.00450967,  0.00471683,  0.00315127,  0.0029947 ,  0.0049836 ,\n",
       "         0.00496617]),\n",
       " 'std_train_score': array([ 0.00184843,  0.00230861,  0.00236288,  0.0020048 ,  0.00260707,\n",
       "         0.00283923])}"
      ]
     },
     "execution_count": 2,
     "metadata": {},
     "output_type": "execute_result"
    }
   ],
   "source": [
    "grid_search.cv_results_"
   ]
  },
  {
   "cell_type": "code",
   "execution_count": 3,
   "metadata": {
    "collapsed": false
   },
   "outputs": [
    {
     "name": "stdout",
     "output_type": "stream",
     "text": [
      "Best hyperparameters: {'n_estimators': 100, 'max_depth': 9}\n",
      "\n",
      "Performance on Training Set\n",
      "[[11711  4270     0]\n",
      " [ 2063 18884     0]\n",
      " [   12    23     1]]\n",
      "Accuracy: 0.827724272265\n",
      "Precision: 0.829960912159\n",
      "Recall: 0.827724272265\n",
      "F1-score: 0.825292770111\n",
      "\n",
      "Performance on Validation Set\n",
      "[[3604 1806    0]\n",
      " [ 945 6016    0]\n",
      " [   3    9    0]]\n",
      "Accuracy: 0.776871517403\n",
      "Precision: 0.777756096571\n",
      "Recall: 0.776871517403\n",
      "F1-score: 0.77336414643\n"
     ]
    },
    {
     "name": "stderr",
     "output_type": "stream",
     "text": [
      "/home/ubuntu/anaconda2/lib/python2.7/site-packages/sklearn/metrics/classification.py:1135: UndefinedMetricWarning: Precision is ill-defined and being set to 0.0 in labels with no predicted samples.\n",
      "  'precision', 'predicted', average, warn_for)\n",
      "/home/ubuntu/anaconda2/lib/python2.7/site-packages/sklearn/metrics/classification.py:1135: UndefinedMetricWarning: F-score is ill-defined and being set to 0.0 in labels with no predicted samples.\n",
      "  'precision', 'predicted', average, warn_for)\n"
     ]
    }
   ],
   "source": [
    "from sklearn.metrics import accuracy_score, roc_auc_score, precision_score, \\\n",
    "    recall_score, f1_score, confusion_matrix, auc, roc_curve\n",
    "import matplotlib.pyplot as plt\n",
    "%matplotlib inline\n",
    "    \n",
    "    \n",
    "def print_metrics(y_actual, y_predict, average='weighted'):\n",
    "    \"\"\"Prints multiple metrics\"\"\"\n",
    "    print \"Accuracy:\", (y_predict == y_actual).mean()\n",
    "    print \"Precision:\", precision_score(y_actual, y_predict, average=average)\n",
    "    print \"Recall:\", recall_score(y_actual, y_predict, average=average)\n",
    "    print \"F1-score:\", f1_score(y_actual, y_predict, average=average)\n",
    "    \n",
    "print('Best hyperparameters: {}\\n'.format(grid_search.best_params_))\n",
    "print('Performance on Training Set')\n",
    "print(confusion_matrix(y_labels, \n",
    "    grid_search.best_estimator_.predict(X_transformed)))\n",
    "print_metrics(y_labels, grid_search.predict(X_transformed))\n",
    "\n",
    "print('\\nPerformance on Validation Set')\n",
    "print(confusion_matrix(val_transformed['y_labels'], \n",
    "    grid_search.best_estimator_.predict(val_transformed['X_transformed'])))\n",
    "print_metrics(val_transformed['y_labels'], \n",
    "    grid_search.predict(val_transformed['X_transformed']))"
   ]
  },
  {
   "cell_type": "code",
   "execution_count": 4,
   "metadata": {
    "collapsed": false
   },
   "outputs": [
    {
     "name": "stdout",
     "output_type": "stream",
     "text": [
      "Performance on Test Set\n",
      "[[3429 1873    0]\n",
      " [ 994 5924    0]\n",
      " [   3    8    0]]\n",
      "Accuracy: 0.764696263593\n",
      "Precision: 0.765140938778\n",
      "Recall: 0.764696263593\n",
      "F1-score: 0.760762213856\n"
     ]
    }
   ],
   "source": [
    "print('Performance on Test Set')\n",
    "print(confusion_matrix(test_transformed['y_labels'], \n",
    "    grid_search.best_estimator_.predict(test_transformed['X_transformed'])))\n",
    "print_metrics(test_transformed['y_labels'], \n",
    "    grid_search.predict(test_transformed['X_transformed']))"
   ]
  },
  {
   "cell_type": "code",
   "execution_count": 5,
   "metadata": {
    "collapsed": false,
    "scrolled": true
   },
   "outputs": [
    {
     "data": {
      "text/plain": [
       "<matplotlib.text.Text at 0x7f912882a510>"
      ]
     },
     "execution_count": 5,
     "metadata": {},
     "output_type": "execute_result"
    },
    {
     "data": {
      "image/png": "[encoded data removed]",
      "text/plain": [
       "<matplotlib.figure.Figure at 0x7f912a3e4950>"
      ]
     },
     "metadata": {},
     "output_type": "display_data"
    }
   ],
   "source": [
    "plt.figure(figsize=(15, 5))\n",
    "plt.subplot(121)\n",
    "plt.plot(grid_search.best_estimator_.feature_importances_, marker='.')\n",
    "plt.xlabel('Principal Components')\n",
    "plt.title('Feature Importance')\n",
    "\n",
    "plt.subplot(122)\n",
    "plt.plot(sorted(grid_search.best_estimator_.feature_importances_)[::-1], marker='.')\n",
    "plt.xlabel('Principal Components Sorted by Importance')\n",
    "plt.title('Feature Importance')"
   ]
  },
  {
   "cell_type": "code",
   "execution_count": null,
   "metadata": {
    "collapsed": true
   },
   "outputs": [],
   "source": []
  },
  {
   "cell_type": "code",
   "execution_count": 6,
   "metadata": {
    "collapsed": false
   },
   "outputs": [
    {
     "name": "stderr",
     "output_type": "stream",
     "text": [
      "Using gpu device 0: Tesla K80 (CNMeM is disabled, cuDNN 5103)\n",
      "/home/ubuntu/anaconda2/lib/python2.7/site-packages/theano/sandbox/cuda/__init__.py:600: UserWarning: Your cuDNN version is more recent than the one Theano officially supports. If you see any problems, try updating Theano or downgrading cuDNN to version 5.\n",
      "  warnings.warn(warn)\n",
      "Using Theano backend.\n"
     ]
    },
    {
     "name": "stdout",
     "output_type": "stream",
     "text": [
      "Found 12231 images belonging to 3 classes.\n",
      "CPU times: user 17.3 s, sys: 1.18 s, total: 18.5 s\n",
      "Wall time: 21.5 s\n"
     ]
    }
   ],
   "source": [
    "%%time\n",
    "from utils import *\n",
    "\n",
    "\n",
    "def plotter(plot_type, data_1, data_2, title_1='Original Image', title_2='Compressed and Decompressed (Lossy)'):\n",
    "    plt.figure(figsize=(10, 5))\n",
    "    plt.subplot(121)\n",
    "    plot_type(data_1)\n",
    "    plt.title(title_1)\n",
    "    plt.subplot(122)\n",
    "    plot_type(data_2)\n",
    "    plt.title(title_2)\n",
    "\n",
    "with open('iPCA.pkl', 'rb') as f:\n",
    "    iPCA = pkl.load(f)\n",
    "    \n",
    "image_generator = image.ImageDataGenerator().flow_from_directory('imgs/test', target_size=(224, 224),\n",
    "    class_mode='categorical', shuffle=False, batch_size=100)\n",
    "image_data = image_generator.next()[0]\n",
    "\n",
    "correctly_classified_examples = np.where((test_transformed['y_labels'] == \n",
    "    grid_search.predict(test_transformed['X_transformed'])))[0]\n",
    "incorrectly_classified_examples = np.where(test_transformed['y_labels'] != \n",
    "    grid_search.predict(test_transformed['X_transformed']))[0]"
   ]
  },
  {
   "cell_type": "code",
   "execution_count": 7,
   "metadata": {
    "collapsed": false
   },
   "outputs": [
    {
     "name": "stdout",
     "output_type": "stream",
     "text": [
      "True Label: 0\n",
      "Predicted Label: 0\n",
      "Predicted Probability: [ 0.621   0.3773  0.0018]\n"
     ]
    },
    {
     "data": {
      "image/png": "[encoded data removed]",
      "text/plain": [
       "<matplotlib.figure.Figure at 0x7f912a221410>"
      ]
     },
     "metadata": {},
     "output_type": "display_data"
    },
    {
     "data": {
      "image/png": "[encoded data removed]",
      "text/plain": [
       "<matplotlib.figure.Figure at 0x7f912a221d90>"
      ]
     },
     "metadata": {},
     "output_type": "display_data"
    }
   ],
   "source": [
    "# lots of weird stuff to get reflated image back!\n",
    "correctly_classified_example = image_data[correctly_classified_examples[0]]\n",
    "correctly_classified_example_compressed = iPCA.transform(correctly_classified_example.reshape(1, -1))\n",
    "correctly_classified_example_reflated = iPCA.inverse_transform(correctly_classified_example_compressed)\n",
    "\n",
    "print('True Label: {}'.format(\n",
    "        test_transformed['y_labels'][correctly_classified_examples[0]]))\n",
    "print('Predicted Label: {}'.format(\n",
    "        grid_search.predict(correctly_classified_example_compressed)[0]))\n",
    "print ('Predicted Probability: {}'.format(\n",
    "        grid_search.predict_proba(correctly_classified_example_compressed)[0]))\n",
    "\n",
    "\n",
    "plotter(plt.imshow, 255 - correctly_classified_example.transpose(1, 2, 0), \n",
    "        255 - np.round(correctly_classified_example_reflated, 0).reshape(3, 224, 224).transpose(1, 2, 0))\n",
    "plotter(plt.plot, np.ravel(correctly_classified_example), np.ravel(correctly_classified_example_reflated))"
   ]
  },
  {
   "cell_type": "code",
   "execution_count": 8,
   "metadata": {
    "collapsed": false
   },
   "outputs": [
    {
     "name": "stdout",
     "output_type": "stream",
     "text": [
      "True Label: 0\n",
      "Predicted Label: 1\n",
      "Predicted Probability: [ 0.4906  0.5087  0.0007]\n"
     ]
    },
    {
     "data": {
      "image/png": "[encoded data removed]",
      "text/plain": [
       "<matplotlib.figure.Figure at 0x7f9158112710>"
      ]
     },
     "metadata": {},
     "output_type": "display_data"
    },
    {
     "data": {
      "image/png": "[encoded data removed]",
      "text/plain": [
       "<matplotlib.figure.Figure at 0x7f90e5016150>"
      ]
     },
     "metadata": {},
     "output_type": "display_data"
    }
   ],
   "source": [
    "incorrectly_classified_example = image_data[incorrectly_classified_examples[0]]\n",
    "incorrectly_classified_example_compressed = iPCA.transform(incorrectly_classified_example.reshape(1, -1))\n",
    "incorrectly_classified_example_reflated = iPCA.inverse_transform(incorrectly_classified_example_compressed)\n",
    "\n",
    "print('True Label: {}'.format(\n",
    "        test_transformed['y_labels'][incorrectly_classified_examples[0]]))\n",
    "print('Predicted Label: {}'.format(\n",
    "        grid_search.predict(incorrectly_classified_example_compressed)[0]))\n",
    "print ('Predicted Probability: {}'.format(\n",
    "        grid_search.predict_proba(incorrectly_classified_example_compressed)[0]))\n",
    "\n",
    "plotter(plt.imshow, 255 - incorrectly_classified_example.transpose(1, 2, 0), \n",
    "        255 - np.round(incorrectly_classified_example_reflated, 0).reshape(3, 224, 224).transpose(1, 2, 0))\n",
    "plotter(plt.plot, np.ravel(incorrectly_classified_example), np.ravel(incorrectly_classified_example_reflated))"
   ]
  },
  {
   "cell_type": "code",
   "execution_count": null,
   "metadata": {
    "collapsed": true
   },
   "outputs": [],
   "source": []
  },
  {
   "cell_type": "code",
   "execution_count": null,
   "metadata": {
    "collapsed": true
   },
   "outputs": [],
   "source": []
  },
  {
   "cell_type": "code",
   "execution_count": 1,
   "metadata": {
    "collapsed": false,
    "scrolled": true
   },
   "outputs": [
    {
     "name": "stderr",
     "output_type": "stream",
     "text": [
      "Using gpu device 0: Tesla K80 (CNMeM is disabled, cuDNN 5103)\n",
      "/home/ubuntu/anaconda2/lib/python2.7/site-packages/theano/sandbox/cuda/__init__.py:600: UserWarning: Your cuDNN version is more recent than the one Theano officially supports. If you see any problems, try updating Theano or downgrading cuDNN to version 5.\n",
      "  warnings.warn(warn)\n",
      "Using Theano backend.\n"
     ]
    }
   ],
   "source": [
    "from utils import *\n",
    "import cPickle as pkl\n",
    "import numpy as np\n",
    "from sklearn.preprocessing import label_binarize\n",
    "\n",
    "\n",
    "with open('train_transformed.pkl', 'rb') as f:\n",
    "    train_transformed = pkl.load(f)\n",
    "with open('val_transformed.pkl', 'rb') as f:\n",
    "    val_transformed = pkl.load(f)\n",
    "with open('test_transformed.pkl', 'rb') as f:\n",
    "    test_transformed = pkl.load(f)\n",
    "\n",
    "X_train = train_transformed['X_transformed']\n",
    "y_train = label_binarize(train_transformed['y_labels'], sorted(set(train_transformed['y_labels'])))\n",
    "X_val = val_transformed['X_transformed']\n",
    "y_val = label_binarize(val_transformed['y_labels'], sorted(set(val_transformed['y_labels'])))    \n",
    "    \n",
    "inp = Input(shape=(100,))\n",
    "x = Dropout(0.3)(inp)\n",
    "x = BatchNormalization()(x)\n",
    "x = Dense(15, activation='relu')(x)\n",
    "x = Dropout(0.5)(x)\n",
    "x = BatchNormalization()(x)\n",
    "x = Dense(3, activation='softmax')(x)\n",
    "model = Model(inp, x)\n",
    "model.compile(Adam(lr=0.1), loss='categorical_crossentropy', metrics=['accuracy'])"
   ]
  },
  {
   "cell_type": "code",
   "execution_count": 2,
   "metadata": {
    "collapsed": false
   },
   "outputs": [
    {
     "name": "stdout",
     "output_type": "stream",
     "text": [
      "Train on 36964 samples, validate on 12383 samples\n",
      "Epoch 1/20\n",
      "36964/36964 [==============================] - 0s - loss: 0.7340 - acc: 0.5542 - val_loss: 0.7164 - val_acc: 0.6642\n",
      "Epoch 2/20\n",
      "36964/36964 [==============================] - 0s - loss: 0.6444 - acc: 0.6378 - val_loss: 0.5724 - val_acc: 0.7329\n",
      "Epoch 3/20\n",
      "36964/36964 [==============================] - 0s - loss: 0.6277 - acc: 0.6569 - val_loss: 0.5598 - val_acc: 0.7246\n",
      "Epoch 4/20\n",
      "36964/36964 [==============================] - 0s - loss: 0.6213 - acc: 0.6638 - val_loss: 0.5532 - val_acc: 0.7572\n",
      "Epoch 5/20\n",
      "36964/36964 [==============================] - 0s - loss: 0.6215 - acc: 0.6631 - val_loss: 0.5597 - val_acc: 0.7013\n",
      "Epoch 6/20\n",
      "36964/36964 [==============================] - 0s - loss: 0.6126 - acc: 0.6761 - val_loss: 0.5284 - val_acc: 0.7673\n",
      "Epoch 7/20\n",
      "36964/36964 [==============================] - 0s - loss: 0.6139 - acc: 0.6789 - val_loss: 0.5545 - val_acc: 0.7575\n",
      "Epoch 8/20\n",
      "36964/36964 [==============================] - 0s - loss: 0.6080 - acc: 0.6802 - val_loss: 0.5371 - val_acc: 0.7708\n",
      "Epoch 9/20\n",
      "36964/36964 [==============================] - 0s - loss: 0.6057 - acc: 0.6865 - val_loss: 0.5318 - val_acc: 0.7602\n",
      "Epoch 10/20\n",
      "36964/36964 [==============================] - 0s - loss: 0.6024 - acc: 0.6901 - val_loss: 0.5491 - val_acc: 0.7593\n",
      "Epoch 11/20\n",
      "36964/36964 [==============================] - 0s - loss: 0.6016 - acc: 0.6874 - val_loss: 0.5374 - val_acc: 0.7729\n",
      "Epoch 12/20\n",
      "36964/36964 [==============================] - 0s - loss: 0.5980 - acc: 0.6962 - val_loss: 0.5481 - val_acc: 0.7466\n",
      "Epoch 13/20\n",
      "36964/36964 [==============================] - 0s - loss: 0.5959 - acc: 0.6956 - val_loss: 0.5362 - val_acc: 0.7824\n",
      "Epoch 14/20\n",
      "36964/36964 [==============================] - 0s - loss: 0.5933 - acc: 0.6998 - val_loss: 0.5197 - val_acc: 0.7836\n",
      "Epoch 15/20\n",
      "36964/36964 [==============================] - 0s - loss: 0.5969 - acc: 0.6934 - val_loss: 0.5364 - val_acc: 0.7815\n",
      "Epoch 16/20\n",
      "36964/36964 [==============================] - 0s - loss: 0.5928 - acc: 0.6987 - val_loss: 0.5730 - val_acc: 0.6662\n",
      "Epoch 17/20\n",
      "36964/36964 [==============================] - 0s - loss: 0.5967 - acc: 0.6932 - val_loss: 0.5269 - val_acc: 0.7812\n",
      "Epoch 18/20\n",
      "36964/36964 [==============================] - 0s - loss: 0.5950 - acc: 0.7010 - val_loss: 0.5359 - val_acc: 0.7653\n",
      "Epoch 19/20\n",
      "36964/36964 [==============================] - 0s - loss: 0.5978 - acc: 0.6949 - val_loss: 0.5263 - val_acc: 0.7885\n",
      "Epoch 20/20\n",
      "36964/36964 [==============================] - 0s - loss: 0.5963 - acc: 0.6984 - val_loss: 0.5454 - val_acc: 0.7633\n"
     ]
    },
    {
     "data": {
      "text/plain": [
       "<keras.callbacks.History at 0x7fc2f480a810>"
      ]
     },
     "execution_count": 2,
     "metadata": {},
     "output_type": "execute_result"
    }
   ],
   "source": [
    "model.fit(X_train, y_train, nb_epoch=20, batch_size=1024, validation_data=(X_val, y_val), shuffle=True)"
   ]
  },
  {
   "cell_type": "code",
   "execution_count": 3,
   "metadata": {
    "collapsed": false
   },
   "outputs": [
    {
     "name": "stdout",
     "output_type": "stream",
     "text": [
      "Train on 36964 samples, validate on 12383 samples\n",
      "Epoch 1/20\n",
      "36964/36964 [==============================] - 0s - loss: 0.5888 - acc: 0.7059 - val_loss: 0.5269 - val_acc: 0.7895\n",
      "Epoch 2/20\n",
      "36964/36964 [==============================] - 0s - loss: 0.5830 - acc: 0.7133 - val_loss: 0.5291 - val_acc: 0.7915\n",
      "Epoch 3/20\n",
      "36964/36964 [==============================] - 0s - loss: 0.5847 - acc: 0.7127 - val_loss: 0.5281 - val_acc: 0.7909\n",
      "Epoch 4/20\n",
      "36964/36964 [==============================] - 0s - loss: 0.5832 - acc: 0.7165 - val_loss: 0.5325 - val_acc: 0.7883\n",
      "Epoch 5/20\n",
      "36964/36964 [==============================] - 0s - loss: 0.5830 - acc: 0.7132 - val_loss: 0.5307 - val_acc: 0.7921\n",
      "Epoch 6/20\n",
      "36964/36964 [==============================] - 0s - loss: 0.5840 - acc: 0.7128 - val_loss: 0.5340 - val_acc: 0.7920\n",
      "Epoch 7/20\n",
      "36964/36964 [==============================] - 0s - loss: 0.5831 - acc: 0.7155 - val_loss: 0.5332 - val_acc: 0.7922\n",
      "Epoch 8/20\n",
      "36964/36964 [==============================] - 0s - loss: 0.5835 - acc: 0.7134 - val_loss: 0.5324 - val_acc: 0.7933\n",
      "Epoch 9/20\n",
      "36964/36964 [==============================] - 0s - loss: 0.5838 - acc: 0.7114 - val_loss: 0.5341 - val_acc: 0.7891\n",
      "Epoch 10/20\n",
      "36964/36964 [==============================] - 0s - loss: 0.5820 - acc: 0.7162 - val_loss: 0.5266 - val_acc: 0.7906\n",
      "Epoch 11/20\n",
      "36964/36964 [==============================] - 0s - loss: 0.5805 - acc: 0.7102 - val_loss: 0.5314 - val_acc: 0.7903\n",
      "Epoch 12/20\n",
      "36964/36964 [==============================] - 0s - loss: 0.5801 - acc: 0.7133 - val_loss: 0.5340 - val_acc: 0.7860\n",
      "Epoch 13/20\n",
      "36964/36964 [==============================] - 0s - loss: 0.5802 - acc: 0.7128 - val_loss: 0.5285 - val_acc: 0.7844\n",
      "Epoch 14/20\n",
      "36964/36964 [==============================] - 0s - loss: 0.5806 - acc: 0.7132 - val_loss: 0.5317 - val_acc: 0.7923\n",
      "Epoch 15/20\n",
      "36964/36964 [==============================] - 0s - loss: 0.5840 - acc: 0.7122 - val_loss: 0.5321 - val_acc: 0.7933\n",
      "Epoch 16/20\n",
      "36964/36964 [==============================] - 0s - loss: 0.5791 - acc: 0.7135 - val_loss: 0.5322 - val_acc: 0.7879\n",
      "Epoch 17/20\n",
      "36964/36964 [==============================] - 0s - loss: 0.5811 - acc: 0.7133 - val_loss: 0.5287 - val_acc: 0.7936\n",
      "Epoch 18/20\n",
      "36964/36964 [==============================] - 0s - loss: 0.5800 - acc: 0.7151 - val_loss: 0.5312 - val_acc: 0.7916\n",
      "Epoch 19/20\n",
      "36964/36964 [==============================] - 0s - loss: 0.5825 - acc: 0.7102 - val_loss: 0.5338 - val_acc: 0.7940\n",
      "Epoch 20/20\n",
      "36964/36964 [==============================] - 0s - loss: 0.5818 - acc: 0.7146 - val_loss: 0.5261 - val_acc: 0.7921\n"
     ]
    },
    {
     "data": {
      "text/plain": [
       "<keras.callbacks.History at 0x7fc2fbcd77d0>"
      ]
     },
     "execution_count": 3,
     "metadata": {},
     "output_type": "execute_result"
    }
   ],
   "source": [
    "model.optimizer.lr.set_value(0.01)\n",
    "model.fit(X_train, y_train, nb_epoch=20, batch_size=1024, validation_data=(X_val, y_val))"
   ]
  },
  {
   "cell_type": "code",
   "execution_count": 4,
   "metadata": {
    "collapsed": false
   },
   "outputs": [
    {
     "name": "stdout",
     "output_type": "stream",
     "text": [
      "Train on 36964 samples, validate on 12383 samples\n",
      "Epoch 1/20\n",
      "36964/36964 [==============================] - 0s - loss: 0.5803 - acc: 0.7133 - val_loss: 0.5276 - val_acc: 0.7922\n",
      "Epoch 2/20\n",
      "36964/36964 [==============================] - 0s - loss: 0.5842 - acc: 0.7108 - val_loss: 0.5297 - val_acc: 0.7923\n",
      "Epoch 3/20\n",
      "36964/36964 [==============================] - 0s - loss: 0.5820 - acc: 0.7169 - val_loss: 0.5302 - val_acc: 0.7923\n",
      "Epoch 4/20\n",
      "36964/36964 [==============================] - 0s - loss: 0.5801 - acc: 0.7163 - val_loss: 0.5306 - val_acc: 0.7922\n",
      "Epoch 5/20\n",
      "36964/36964 [==============================] - 0s - loss: 0.5778 - acc: 0.7148 - val_loss: 0.5299 - val_acc: 0.7924\n",
      "Epoch 6/20\n",
      "36964/36964 [==============================] - 0s - loss: 0.5787 - acc: 0.7139 - val_loss: 0.5298 - val_acc: 0.7919\n",
      "Epoch 7/20\n",
      "36964/36964 [==============================] - 0s - loss: 0.5801 - acc: 0.7158 - val_loss: 0.5297 - val_acc: 0.7928\n",
      "Epoch 8/20\n",
      "36964/36964 [==============================] - 0s - loss: 0.5837 - acc: 0.7136 - val_loss: 0.5303 - val_acc: 0.7925\n",
      "Epoch 9/20\n",
      "36964/36964 [==============================] - 0s - loss: 0.5825 - acc: 0.7147 - val_loss: 0.5305 - val_acc: 0.7925\n",
      "Epoch 10/20\n",
      "36964/36964 [==============================] - 0s - loss: 0.5812 - acc: 0.7137 - val_loss: 0.5305 - val_acc: 0.7922\n",
      "Epoch 11/20\n",
      "36964/36964 [==============================] - 0s - loss: 0.5826 - acc: 0.7132 - val_loss: 0.5309 - val_acc: 0.7920\n",
      "Epoch 12/20\n",
      "36964/36964 [==============================] - 0s - loss: 0.5786 - acc: 0.7158 - val_loss: 0.5299 - val_acc: 0.7924\n",
      "Epoch 13/20\n",
      "36964/36964 [==============================] - 0s - loss: 0.5777 - acc: 0.7144 - val_loss: 0.5293 - val_acc: 0.7926\n",
      "Epoch 14/20\n",
      "36964/36964 [==============================] - 0s - loss: 0.5801 - acc: 0.7143 - val_loss: 0.5298 - val_acc: 0.7922\n",
      "Epoch 15/20\n",
      "36964/36964 [==============================] - 0s - loss: 0.5805 - acc: 0.7184 - val_loss: 0.5292 - val_acc: 0.7931\n",
      "Epoch 16/20\n",
      "36964/36964 [==============================] - 0s - loss: 0.5823 - acc: 0.7134 - val_loss: 0.5291 - val_acc: 0.7925\n",
      "Epoch 17/20\n",
      "36964/36964 [==============================] - 0s - loss: 0.5806 - acc: 0.7143 - val_loss: 0.5294 - val_acc: 0.7930\n",
      "Epoch 18/20\n",
      "36964/36964 [==============================] - 0s - loss: 0.5792 - acc: 0.7145 - val_loss: 0.5292 - val_acc: 0.7925\n",
      "Epoch 19/20\n",
      "36964/36964 [==============================] - 0s - loss: 0.5815 - acc: 0.7110 - val_loss: 0.5300 - val_acc: 0.7932\n",
      "Epoch 20/20\n",
      "36964/36964 [==============================] - 0s - loss: 0.5794 - acc: 0.7139 - val_loss: 0.5301 - val_acc: 0.7927\n"
     ]
    },
    {
     "data": {
      "text/plain": [
       "<keras.callbacks.History at 0x7fc2f480a850>"
      ]
     },
     "execution_count": 4,
     "metadata": {},
     "output_type": "execute_result"
    }
   ],
   "source": [
    "model.optimizer.lr.set_value(0.001)\n",
    "model.fit(X_train, y_train, nb_epoch=20, batch_size=1024, validation_data=(X_val, y_val))"
   ]
  }
 ],
 "metadata": {
  "anaconda-cloud": {},
  "kernelspec": {
   "display_name": "Python [default]",
   "language": "python",
   "name": "python2"
  },
  "language_info": {
   "codemirror_mode": {
    "name": "ipython",
    "version": 2
   },
   "file_extension": ".py",
   "mimetype": "text/x-python",
   "name": "python",
   "nbconvert_exporter": "python",
   "pygments_lexer": "ipython2",
   "version": "2.7.12"
  },
  "nav_menu": {},
  "nbpresent": {
   "slides": {
    "28b43202-5690-4169-9aca-6b9dabfeb3ec": {
     "id": "28b43202-5690-4169-9aca-6b9dabfeb3ec",
     "prev": null,
     "regions": {
      "3bba644a-cf4d-4a49-9fbd-e2554428cf9f": {
       "attrs": {
        "height": 0.8,
        "width": 0.8,
        "x": 0.1,
        "y": 0.1
       },
       "content": {
        "cell": "f3d3a388-7e2a-4151-9b50-c20498fceacc",
        "part": "whole"
       },
       "id": "3bba644a-cf4d-4a49-9fbd-e2554428cf9f"
      }
     }
    },
    "8104def2-4b68-44a0-8f1b-b03bf3b2a079": {
     "id": "8104def2-4b68-44a0-8f1b-b03bf3b2a079",
     "prev": "28b43202-5690-4169-9aca-6b9dabfeb3ec",
     "regions": {
      "7dded777-1ddf-4100-99ae-25cf1c15b575": {
       "attrs": {
        "height": 0.8,
        "width": 0.8,
        "x": 0.1,
        "y": 0.1
       },
       "content": {
        "cell": "fe47bd48-3414-4657-92e7-8b8d6cb0df00",
        "part": "whole"
       },
       "id": "7dded777-1ddf-4100-99ae-25cf1c15b575"
      }
     }
    }
   },
   "themes": {}
  },
  "toc": {
   "navigate_menu": true,
   "number_sections": true,
   "sideBar": true,
   "threshold": 6,
   "toc_cell": false,
   "toc_section_display": "block",
   "toc_window_display": false
  }
 },
 "nbformat": 4,
 "nbformat_minor": 0
}
